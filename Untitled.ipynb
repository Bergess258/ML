{
 "cells": [
  {
   "cell_type": "code",
   "execution_count": 1,
   "metadata": {},
   "outputs": [],
   "source": [
    "import pandas as pd\n",
    "import numpy as np"
   ]
  },
  {
   "cell_type": "code",
   "execution_count": 2,
   "metadata": {},
   "outputs": [],
   "source": [
    "raw_data = pd.read_csv('casc-resto.csv',sep=';',parse_dates=['RKDate'],decimal=',')\n",
    "clients_info = pd.read_csv(\"CASC_Constant.csv\", sep=\",\")"
   ]
  },
  {
   "cell_type": "code",
   "execution_count": 3,
   "metadata": {},
   "outputs": [
    {
     "data": {
      "text/html": [
       "<div>\n",
       "<style scoped>\n",
       "    .dataframe tbody tr th:only-of-type {\n",
       "        vertical-align: middle;\n",
       "    }\n",
       "\n",
       "    .dataframe tbody tr th {\n",
       "        vertical-align: top;\n",
       "    }\n",
       "\n",
       "    .dataframe thead th {\n",
       "        text-align: right;\n",
       "    }\n",
       "</style>\n",
       "<table border=\"1\" class=\"dataframe\">\n",
       "  <thead>\n",
       "    <tr style=\"text-align: right;\">\n",
       "      <th></th>\n",
       "      <th>CustomerId</th>\n",
       "      <th>Age</th>\n",
       "    </tr>\n",
       "  </thead>\n",
       "  <tbody>\n",
       "    <tr>\n",
       "      <th>count</th>\n",
       "      <td>1.000000e+04</td>\n",
       "      <td>9953.000000</td>\n",
       "    </tr>\n",
       "    <tr>\n",
       "      <th>mean</th>\n",
       "      <td>2.812482e+06</td>\n",
       "      <td>32.894203</td>\n",
       "    </tr>\n",
       "    <tr>\n",
       "      <th>std</th>\n",
       "      <td>6.227632e+04</td>\n",
       "      <td>11.954687</td>\n",
       "    </tr>\n",
       "    <tr>\n",
       "      <th>min</th>\n",
       "      <td>2.728046e+06</td>\n",
       "      <td>16.000000</td>\n",
       "    </tr>\n",
       "    <tr>\n",
       "      <th>25%</th>\n",
       "      <td>2.756356e+06</td>\n",
       "      <td>26.000000</td>\n",
       "    </tr>\n",
       "    <tr>\n",
       "      <th>50%</th>\n",
       "      <td>2.794998e+06</td>\n",
       "      <td>31.000000</td>\n",
       "    </tr>\n",
       "    <tr>\n",
       "      <th>75%</th>\n",
       "      <td>2.880618e+06</td>\n",
       "      <td>37.000000</td>\n",
       "    </tr>\n",
       "    <tr>\n",
       "      <th>max</th>\n",
       "      <td>2.913132e+06</td>\n",
       "      <td>247.000000</td>\n",
       "    </tr>\n",
       "  </tbody>\n",
       "</table>\n",
       "</div>"
      ],
      "text/plain": [
       "         CustomerId          Age\n",
       "count  1.000000e+04  9953.000000\n",
       "mean   2.812482e+06    32.894203\n",
       "std    6.227632e+04    11.954687\n",
       "min    2.728046e+06    16.000000\n",
       "25%    2.756356e+06    26.000000\n",
       "50%    2.794998e+06    31.000000\n",
       "75%    2.880618e+06    37.000000\n",
       "max    2.913132e+06   247.000000"
      ]
     },
     "execution_count": 3,
     "metadata": {},
     "output_type": "execute_result"
    }
   ],
   "source": [
    "clients_info.describe()"
   ]
  },
  {
   "cell_type": "code",
   "execution_count": 4,
   "metadata": {},
   "outputs": [
    {
     "data": {
      "text/html": [
       "<div>\n",
       "<style scoped>\n",
       "    .dataframe tbody tr th:only-of-type {\n",
       "        vertical-align: middle;\n",
       "    }\n",
       "\n",
       "    .dataframe tbody tr th {\n",
       "        vertical-align: top;\n",
       "    }\n",
       "\n",
       "    .dataframe thead th {\n",
       "        text-align: right;\n",
       "    }\n",
       "</style>\n",
       "<table border=\"1\" class=\"dataframe\">\n",
       "  <thead>\n",
       "    <tr style=\"text-align: right;\">\n",
       "      <th></th>\n",
       "      <th>CustomerID</th>\n",
       "      <th>Restaurant</th>\n",
       "      <th>Quantity</th>\n",
       "      <th>SummBasic</th>\n",
       "      <th>SummAfterPointsUsage</th>\n",
       "    </tr>\n",
       "  </thead>\n",
       "  <tbody>\n",
       "    <tr>\n",
       "      <th>count</th>\n",
       "      <td>8.822220e+05</td>\n",
       "      <td>882222.000000</td>\n",
       "      <td>882222.000000</td>\n",
       "      <td>882222.000000</td>\n",
       "      <td>882222.000000</td>\n",
       "    </tr>\n",
       "    <tr>\n",
       "      <th>mean</th>\n",
       "      <td>2.809199e+06</td>\n",
       "      <td>468.268804</td>\n",
       "      <td>1.154900</td>\n",
       "      <td>287.725795</td>\n",
       "      <td>260.255589</td>\n",
       "    </tr>\n",
       "    <tr>\n",
       "      <th>std</th>\n",
       "      <td>6.178420e+04</td>\n",
       "      <td>279.170967</td>\n",
       "      <td>0.650287</td>\n",
       "      <td>264.555291</td>\n",
       "      <td>251.289517</td>\n",
       "    </tr>\n",
       "    <tr>\n",
       "      <th>min</th>\n",
       "      <td>2.728046e+06</td>\n",
       "      <td>40.000000</td>\n",
       "      <td>0.000000</td>\n",
       "      <td>0.500000</td>\n",
       "      <td>-2593.000000</td>\n",
       "    </tr>\n",
       "    <tr>\n",
       "      <th>25%</th>\n",
       "      <td>2.754886e+06</td>\n",
       "      <td>333.000000</td>\n",
       "      <td>1.000000</td>\n",
       "      <td>120.000000</td>\n",
       "      <td>110.000000</td>\n",
       "    </tr>\n",
       "    <tr>\n",
       "      <th>50%</th>\n",
       "      <td>2.785104e+06</td>\n",
       "      <td>434.000000</td>\n",
       "      <td>1.000000</td>\n",
       "      <td>225.000000</td>\n",
       "      <td>199.000000</td>\n",
       "    </tr>\n",
       "    <tr>\n",
       "      <th>75%</th>\n",
       "      <td>2.878900e+06</td>\n",
       "      <td>712.000000</td>\n",
       "      <td>1.000000</td>\n",
       "      <td>379.000000</td>\n",
       "      <td>348.940000</td>\n",
       "    </tr>\n",
       "    <tr>\n",
       "      <th>max</th>\n",
       "      <td>2.913132e+06</td>\n",
       "      <td>980.000000</td>\n",
       "      <td>107.000000</td>\n",
       "      <td>29450.000000</td>\n",
       "      <td>29450.000000</td>\n",
       "    </tr>\n",
       "  </tbody>\n",
       "</table>\n",
       "</div>"
      ],
      "text/plain": [
       "         CustomerID     Restaurant       Quantity      SummBasic  \\\n",
       "count  8.822220e+05  882222.000000  882222.000000  882222.000000   \n",
       "mean   2.809199e+06     468.268804       1.154900     287.725795   \n",
       "std    6.178420e+04     279.170967       0.650287     264.555291   \n",
       "min    2.728046e+06      40.000000       0.000000       0.500000   \n",
       "25%    2.754886e+06     333.000000       1.000000     120.000000   \n",
       "50%    2.785104e+06     434.000000       1.000000     225.000000   \n",
       "75%    2.878900e+06     712.000000       1.000000     379.000000   \n",
       "max    2.913132e+06     980.000000     107.000000   29450.000000   \n",
       "\n",
       "       SummAfterPointsUsage  \n",
       "count         882222.000000  \n",
       "mean             260.255589  \n",
       "std              251.289517  \n",
       "min            -2593.000000  \n",
       "25%              110.000000  \n",
       "50%              199.000000  \n",
       "75%              348.940000  \n",
       "max            29450.000000  "
      ]
     },
     "execution_count": 4,
     "metadata": {},
     "output_type": "execute_result"
    }
   ],
   "source": [
    "raw_data.describe()"
   ]
  },
  {
   "cell_type": "code",
   "execution_count": 5,
   "metadata": {},
   "outputs": [],
   "source": [
    "#Исключение некорректных данных\n",
    "raw_data = raw_data.loc[raw_data['SummAfterPointsUsage'] > 0]\n",
    "clients_info = clients_info.loc[clients_info['Age'] <100]\n",
    "#Переводим пол в числа и пустые поля заполняем 1\n",
    "clients_info['Sex'] = clients_info['Sex'].map({'Female': 0,np.nan:1, 'Male': 2})"
   ]
  },
  {
   "cell_type": "code",
   "execution_count": 6,
   "metadata": {},
   "outputs": [
    {
     "data": {
      "text/html": [
       "<div>\n",
       "<style scoped>\n",
       "    .dataframe tbody tr th:only-of-type {\n",
       "        vertical-align: middle;\n",
       "    }\n",
       "\n",
       "    .dataframe tbody tr th {\n",
       "        vertical-align: top;\n",
       "    }\n",
       "\n",
       "    .dataframe thead th {\n",
       "        text-align: right;\n",
       "    }\n",
       "</style>\n",
       "<table border=\"1\" class=\"dataframe\">\n",
       "  <thead>\n",
       "    <tr style=\"text-align: right;\">\n",
       "      <th></th>\n",
       "      <th>CustomerID</th>\n",
       "      <th>Restaurant</th>\n",
       "      <th>RKDate</th>\n",
       "      <th>RegionName</th>\n",
       "      <th>BrandsNames</th>\n",
       "      <th>DishCategoryName</th>\n",
       "      <th>Quantity</th>\n",
       "      <th>SummBasic</th>\n",
       "      <th>SummAfterPointsUsage</th>\n",
       "    </tr>\n",
       "  </thead>\n",
       "  <tbody>\n",
       "    <tr>\n",
       "      <th>0</th>\n",
       "      <td>2898197</td>\n",
       "      <td>391</td>\n",
       "      <td>2017-07-16</td>\n",
       "      <td>Москва и Московская область</td>\n",
       "      <td>TGI FRIDAYS</td>\n",
       "      <td>NON ALCOHOL</td>\n",
       "      <td>2</td>\n",
       "      <td>2.0</td>\n",
       "      <td>2.0</td>\n",
       "    </tr>\n",
       "    <tr>\n",
       "      <th>1</th>\n",
       "      <td>2903215</td>\n",
       "      <td>43</td>\n",
       "      <td>2015-04-07</td>\n",
       "      <td>Москва и Московская область</td>\n",
       "      <td>IL Патио</td>\n",
       "      <td>NON ALCOHOL</td>\n",
       "      <td>1</td>\n",
       "      <td>5.0</td>\n",
       "      <td>5.0</td>\n",
       "    </tr>\n",
       "    <tr>\n",
       "      <th>2</th>\n",
       "      <td>2748887</td>\n",
       "      <td>43</td>\n",
       "      <td>2015-05-22</td>\n",
       "      <td>Москва и Московская область</td>\n",
       "      <td>IL Патио</td>\n",
       "      <td>NON ALCOHOL</td>\n",
       "      <td>1</td>\n",
       "      <td>5.0</td>\n",
       "      <td>5.0</td>\n",
       "    </tr>\n",
       "    <tr>\n",
       "      <th>3</th>\n",
       "      <td>2862077</td>\n",
       "      <td>46</td>\n",
       "      <td>2015-03-05</td>\n",
       "      <td>Москва и Московская область</td>\n",
       "      <td>IL Патио</td>\n",
       "      <td>NON ALCOHOL</td>\n",
       "      <td>1</td>\n",
       "      <td>5.0</td>\n",
       "      <td>5.0</td>\n",
       "    </tr>\n",
       "    <tr>\n",
       "      <th>4</th>\n",
       "      <td>2862077</td>\n",
       "      <td>46</td>\n",
       "      <td>2015-03-11</td>\n",
       "      <td>Москва и Московская область</td>\n",
       "      <td>IL Патио</td>\n",
       "      <td>NON ALCOHOL</td>\n",
       "      <td>1</td>\n",
       "      <td>5.0</td>\n",
       "      <td>5.0</td>\n",
       "    </tr>\n",
       "  </tbody>\n",
       "</table>\n",
       "</div>"
      ],
      "text/plain": [
       "   CustomerID  Restaurant     RKDate                    RegionName  \\\n",
       "0     2898197         391 2017-07-16  Москва и Московская область    \n",
       "1     2903215          43 2015-04-07  Москва и Московская область    \n",
       "2     2748887          43 2015-05-22  Москва и Московская область    \n",
       "3     2862077          46 2015-03-05  Москва и Московская область    \n",
       "4     2862077          46 2015-03-11  Москва и Московская область    \n",
       "\n",
       "   BrandsNames DishCategoryName  Quantity  SummBasic  SummAfterPointsUsage  \n",
       "0  TGI FRIDAYS      NON ALCOHOL         2        2.0                   2.0  \n",
       "1     IL Патио      NON ALCOHOL         1        5.0                   5.0  \n",
       "2     IL Патио      NON ALCOHOL         1        5.0                   5.0  \n",
       "3     IL Патио      NON ALCOHOL         1        5.0                   5.0  \n",
       "4     IL Патио      NON ALCOHOL         1        5.0                   5.0  "
      ]
     },
     "execution_count": 6,
     "metadata": {},
     "output_type": "execute_result"
    }
   ],
   "source": [
    "raw_data.head()"
   ]
  },
  {
   "cell_type": "code",
   "execution_count": 7,
   "metadata": {},
   "outputs": [
    {
     "data": {
      "text/html": [
       "<div>\n",
       "<style scoped>\n",
       "    .dataframe tbody tr th:only-of-type {\n",
       "        vertical-align: middle;\n",
       "    }\n",
       "\n",
       "    .dataframe tbody tr th {\n",
       "        vertical-align: top;\n",
       "    }\n",
       "\n",
       "    .dataframe thead th {\n",
       "        text-align: right;\n",
       "    }\n",
       "</style>\n",
       "<table border=\"1\" class=\"dataframe\">\n",
       "  <thead>\n",
       "    <tr style=\"text-align: right;\">\n",
       "      <th></th>\n",
       "      <th>CustomerId</th>\n",
       "      <th>Age</th>\n",
       "      <th>Sex</th>\n",
       "    </tr>\n",
       "  </thead>\n",
       "  <tbody>\n",
       "    <tr>\n",
       "      <th>count</th>\n",
       "      <td>9.862000e+03</td>\n",
       "      <td>9862.000000</td>\n",
       "      <td>9862.000000</td>\n",
       "    </tr>\n",
       "    <tr>\n",
       "      <th>mean</th>\n",
       "      <td>2.812337e+06</td>\n",
       "      <td>32.067025</td>\n",
       "      <td>0.858447</td>\n",
       "    </tr>\n",
       "    <tr>\n",
       "      <th>std</th>\n",
       "      <td>6.229775e+04</td>\n",
       "      <td>8.102757</td>\n",
       "      <td>0.933027</td>\n",
       "    </tr>\n",
       "    <tr>\n",
       "      <th>min</th>\n",
       "      <td>2.728046e+06</td>\n",
       "      <td>16.000000</td>\n",
       "      <td>0.000000</td>\n",
       "    </tr>\n",
       "    <tr>\n",
       "      <th>25%</th>\n",
       "      <td>2.756232e+06</td>\n",
       "      <td>26.000000</td>\n",
       "      <td>0.000000</td>\n",
       "    </tr>\n",
       "    <tr>\n",
       "      <th>50%</th>\n",
       "      <td>2.794530e+06</td>\n",
       "      <td>31.000000</td>\n",
       "      <td>0.000000</td>\n",
       "    </tr>\n",
       "    <tr>\n",
       "      <th>75%</th>\n",
       "      <td>2.880582e+06</td>\n",
       "      <td>36.000000</td>\n",
       "      <td>2.000000</td>\n",
       "    </tr>\n",
       "    <tr>\n",
       "      <th>max</th>\n",
       "      <td>2.913132e+06</td>\n",
       "      <td>96.000000</td>\n",
       "      <td>2.000000</td>\n",
       "    </tr>\n",
       "  </tbody>\n",
       "</table>\n",
       "</div>"
      ],
      "text/plain": [
       "         CustomerId          Age          Sex\n",
       "count  9.862000e+03  9862.000000  9862.000000\n",
       "mean   2.812337e+06    32.067025     0.858447\n",
       "std    6.229775e+04     8.102757     0.933027\n",
       "min    2.728046e+06    16.000000     0.000000\n",
       "25%    2.756232e+06    26.000000     0.000000\n",
       "50%    2.794530e+06    31.000000     0.000000\n",
       "75%    2.880582e+06    36.000000     2.000000\n",
       "max    2.913132e+06    96.000000     2.000000"
      ]
     },
     "execution_count": 7,
     "metadata": {},
     "output_type": "execute_result"
    }
   ],
   "source": [
    "clients_info.describe()"
   ]
  },
  {
   "cell_type": "code",
   "execution_count": 8,
   "metadata": {},
   "outputs": [
    {
     "data": {
      "text/html": [
       "<div>\n",
       "<style scoped>\n",
       "    .dataframe tbody tr th:only-of-type {\n",
       "        vertical-align: middle;\n",
       "    }\n",
       "\n",
       "    .dataframe tbody tr th {\n",
       "        vertical-align: top;\n",
       "    }\n",
       "\n",
       "    .dataframe thead th {\n",
       "        text-align: right;\n",
       "    }\n",
       "</style>\n",
       "<table border=\"1\" class=\"dataframe\">\n",
       "  <thead>\n",
       "    <tr style=\"text-align: right;\">\n",
       "      <th></th>\n",
       "      <th>CustomerId</th>\n",
       "      <th>ActivationDate</th>\n",
       "      <th>Age</th>\n",
       "      <th>Sex</th>\n",
       "      <th>SubscribedEmail</th>\n",
       "      <th>SubscribedPush</th>\n",
       "    </tr>\n",
       "  </thead>\n",
       "  <tbody>\n",
       "    <tr>\n",
       "      <th>0</th>\n",
       "      <td>2728183</td>\n",
       "      <td>2015-01-01</td>\n",
       "      <td>21.0</td>\n",
       "      <td>0</td>\n",
       "      <td>False</td>\n",
       "      <td>True</td>\n",
       "    </tr>\n",
       "    <tr>\n",
       "      <th>1</th>\n",
       "      <td>2728198</td>\n",
       "      <td>2015-01-01</td>\n",
       "      <td>21.0</td>\n",
       "      <td>0</td>\n",
       "      <td>True</td>\n",
       "      <td>True</td>\n",
       "    </tr>\n",
       "    <tr>\n",
       "      <th>2</th>\n",
       "      <td>2728306</td>\n",
       "      <td>2015-01-01</td>\n",
       "      <td>21.0</td>\n",
       "      <td>0</td>\n",
       "      <td>True</td>\n",
       "      <td>True</td>\n",
       "    </tr>\n",
       "    <tr>\n",
       "      <th>3</th>\n",
       "      <td>2728178</td>\n",
       "      <td>2015-01-01</td>\n",
       "      <td>22.0</td>\n",
       "      <td>2</td>\n",
       "      <td>True</td>\n",
       "      <td>True</td>\n",
       "    </tr>\n",
       "    <tr>\n",
       "      <th>4</th>\n",
       "      <td>2728322</td>\n",
       "      <td>2015-01-01</td>\n",
       "      <td>22.0</td>\n",
       "      <td>2</td>\n",
       "      <td>True</td>\n",
       "      <td>True</td>\n",
       "    </tr>\n",
       "    <tr>\n",
       "      <th>5</th>\n",
       "      <td>2728319</td>\n",
       "      <td>2015-01-01</td>\n",
       "      <td>22.0</td>\n",
       "      <td>1</td>\n",
       "      <td>False</td>\n",
       "      <td>False</td>\n",
       "    </tr>\n",
       "  </tbody>\n",
       "</table>\n",
       "</div>"
      ],
      "text/plain": [
       "   CustomerId ActivationDate   Age  Sex  SubscribedEmail  SubscribedPush\n",
       "0     2728183     2015-01-01  21.0    0            False            True\n",
       "1     2728198     2015-01-01  21.0    0             True            True\n",
       "2     2728306     2015-01-01  21.0    0             True            True\n",
       "3     2728178     2015-01-01  22.0    2             True            True\n",
       "4     2728322     2015-01-01  22.0    2             True            True\n",
       "5     2728319     2015-01-01  22.0    1            False           False"
      ]
     },
     "execution_count": 8,
     "metadata": {},
     "output_type": "execute_result"
    }
   ],
   "source": [
    "clients_info[:6]"
   ]
  },
  {
   "cell_type": "code",
   "execution_count": 9,
   "metadata": {},
   "outputs": [],
   "source": [
    "startTime = pd.Timestamp(2017, 7, 1)"
   ]
  },
  {
   "cell_type": "code",
   "execution_count": 10,
   "metadata": {},
   "outputs": [],
   "source": [
    "customersTr = raw_data.groupby(['CustomerID'])"
   ]
  },
  {
   "cell_type": "code",
   "execution_count": 11,
   "metadata": {},
   "outputs": [],
   "source": [
    "def get_y(df):\n",
    "    return len(df[(startTime <= df['RKDate']) & ('2017-12-31' >= df['RKDate'])]) > 0\n",
    "def get_recency(df):\n",
    "    return pd.Timedelta(startTime- df[startTime > df['RKDate']]['RKDate'].max()).days\n",
    "def get_frequency(df):\n",
    "    trBeforeStT = df[df['RKDate'] < startTime]\n",
    "    return trBeforeStT.groupby([trBeforeStT['RKDate'].dt.year, trBeforeStT['RKDate'].dt.month]).size().mean()\n",
    "def get_monetary_value(df):\n",
    "    trBeforeStT = df[df['RKDate'] < startTime]\n",
    "    return trBeforeStT['SummAfterPointsUsage'].mean()\n",
    "def get_avg_discount(df):\n",
    "    return ((df['SummBasic'] - df['SummAfterPointsUsage']) / df['SummBasic']).mean()"
   ]
  },
  {
   "cell_type": "code",
   "execution_count": 12,
   "metadata": {},
   "outputs": [],
   "source": [
    "clients_info['Y'] = clients_info['CustomerId'].apply(lambda x:get_y(customersTr.get_group(x)))\n",
    "clients_info['Recency'] = clients_info['CustomerId'].apply(lambda x: get_recency(customersTr.get_group(x)))\n",
    "clients_info['Frequency'] = clients_info['CustomerId'].apply(lambda x: get_frequency(customersTr.get_group(x)))\n",
    "clients_info['Monetary Value'] = clients_info['CustomerId'].apply(lambda x: get_monetary_value(customersTr.get_group(x)))\n",
    "clients_info['Average Discount'] = clients_info['CustomerId'].apply(lambda x: get_avg_discount(customersTr.get_group(x)))"
   ]
  },
  {
   "cell_type": "code",
   "execution_count": 13,
   "metadata": {},
   "outputs": [
    {
     "data": {
      "text/html": [
       "<div>\n",
       "<style scoped>\n",
       "    .dataframe tbody tr th:only-of-type {\n",
       "        vertical-align: middle;\n",
       "    }\n",
       "\n",
       "    .dataframe tbody tr th {\n",
       "        vertical-align: top;\n",
       "    }\n",
       "\n",
       "    .dataframe thead th {\n",
       "        text-align: right;\n",
       "    }\n",
       "</style>\n",
       "<table border=\"1\" class=\"dataframe\">\n",
       "  <thead>\n",
       "    <tr style=\"text-align: right;\">\n",
       "      <th></th>\n",
       "      <th>CustomerId</th>\n",
       "      <th>Age</th>\n",
       "      <th>Sex</th>\n",
       "      <th>Y</th>\n",
       "      <th>Recency</th>\n",
       "      <th>Frequency</th>\n",
       "      <th>Monetary Value</th>\n",
       "      <th>Average Discount</th>\n",
       "    </tr>\n",
       "  </thead>\n",
       "  <tbody>\n",
       "    <tr>\n",
       "      <th>0</th>\n",
       "      <td>2728183</td>\n",
       "      <td>21.0</td>\n",
       "      <td>0</td>\n",
       "      <td>False</td>\n",
       "      <td>553.0</td>\n",
       "      <td>6.000000</td>\n",
       "      <td>337.222222</td>\n",
       "      <td>0.042936</td>\n",
       "    </tr>\n",
       "    <tr>\n",
       "      <th>1</th>\n",
       "      <td>2728198</td>\n",
       "      <td>21.0</td>\n",
       "      <td>0</td>\n",
       "      <td>False</td>\n",
       "      <td>282.0</td>\n",
       "      <td>10.428571</td>\n",
       "      <td>385.465753</td>\n",
       "      <td>0.185116</td>\n",
       "    </tr>\n",
       "    <tr>\n",
       "      <th>2</th>\n",
       "      <td>2728306</td>\n",
       "      <td>21.0</td>\n",
       "      <td>0</td>\n",
       "      <td>True</td>\n",
       "      <td>1.0</td>\n",
       "      <td>11.500000</td>\n",
       "      <td>298.782609</td>\n",
       "      <td>0.061818</td>\n",
       "    </tr>\n",
       "    <tr>\n",
       "      <th>3</th>\n",
       "      <td>2728178</td>\n",
       "      <td>22.0</td>\n",
       "      <td>2</td>\n",
       "      <td>False</td>\n",
       "      <td>171.0</td>\n",
       "      <td>5.777778</td>\n",
       "      <td>295.403846</td>\n",
       "      <td>0.143614</td>\n",
       "    </tr>\n",
       "    <tr>\n",
       "      <th>4</th>\n",
       "      <td>2728322</td>\n",
       "      <td>22.0</td>\n",
       "      <td>2</td>\n",
       "      <td>False</td>\n",
       "      <td>116.0</td>\n",
       "      <td>5.333333</td>\n",
       "      <td>280.531250</td>\n",
       "      <td>0.077110</td>\n",
       "    </tr>\n",
       "  </tbody>\n",
       "</table>\n",
       "</div>"
      ],
      "text/plain": [
       "   CustomerId   Age  Sex      Y  Recency  Frequency  Monetary Value  \\\n",
       "0     2728183  21.0    0  False    553.0   6.000000      337.222222   \n",
       "1     2728198  21.0    0  False    282.0  10.428571      385.465753   \n",
       "2     2728306  21.0    0   True      1.0  11.500000      298.782609   \n",
       "3     2728178  22.0    2  False    171.0   5.777778      295.403846   \n",
       "4     2728322  22.0    2  False    116.0   5.333333      280.531250   \n",
       "\n",
       "   Average Discount  \n",
       "0          0.042936  \n",
       "1          0.185116  \n",
       "2          0.061818  \n",
       "3          0.143614  \n",
       "4          0.077110  "
      ]
     },
     "execution_count": 13,
     "metadata": {},
     "output_type": "execute_result"
    }
   ],
   "source": [
    "#Убираю ненужные столбцы,т.к. делал сразу в таблице с информацией о клиентах и записываю в другую таблицу\n",
    "clients_info_final = clients_info.drop(['SubscribedEmail', 'SubscribedPush','ActivationDate'], axis=1)\n",
    "clients_info_final.head()"
   ]
  },
  {
   "cell_type": "code",
   "execution_count": 14,
   "metadata": {},
   "outputs": [
    {
     "data": {
      "text/plain": [
       "CustomerId           0\n",
       "Age                  0\n",
       "Sex                  0\n",
       "Y                    0\n",
       "Recency             57\n",
       "Frequency           57\n",
       "Monetary Value      57\n",
       "Average Discount     0\n",
       "dtype: int64"
      ]
     },
     "execution_count": 14,
     "metadata": {},
     "output_type": "execute_result"
    }
   ],
   "source": [
    "#Проверка на пустые значения данных,используемых потом в модели\n",
    "clients_info_final.isnull().sum()"
   ]
  },
  {
   "cell_type": "code",
   "execution_count": 15,
   "metadata": {},
   "outputs": [
    {
     "data": {
      "text/plain": [
       "CustomerId          0\n",
       "Age                 0\n",
       "Sex                 0\n",
       "Y                   0\n",
       "Recency             0\n",
       "Frequency           0\n",
       "Monetary Value      0\n",
       "Average Discount    0\n",
       "dtype: int64"
      ]
     },
     "execution_count": 15,
     "metadata": {},
     "output_type": "execute_result"
    }
   ],
   "source": [
    "clients_info_final = clients_info_final.fillna(0)\n",
    "clients_info_final.isnull().sum()"
   ]
  },
  {
   "cell_type": "code",
   "execution_count": 16,
   "metadata": {},
   "outputs": [],
   "source": [
    "from sklearn.linear_model import LogisticRegression\n",
    "from sklearn.model_selection import train_test_split\n",
    "from sklearn.metrics import precision_score, recall_score"
   ]
  },
  {
   "cell_type": "code",
   "execution_count": 17,
   "metadata": {},
   "outputs": [],
   "source": [
    "y = clients_info_final['Y']\n",
    "x = clients_info_final.drop('Y', axis=1)"
   ]
  },
  {
   "cell_type": "code",
   "execution_count": 18,
   "metadata": {},
   "outputs": [],
   "source": [
    "x_train, x_test, y_train, y_test = train_test_split(\n",
    "    x,\n",
    "    y,\n",
    "    test_size=0.2,\n",
    "    random_state=1337\n",
    ")"
   ]
  },
  {
   "cell_type": "code",
   "execution_count": 19,
   "metadata": {},
   "outputs": [
    {
     "data": {
      "text/plain": [
       "0.7410035478966042"
      ]
     },
     "execution_count": 19,
     "metadata": {},
     "output_type": "execute_result"
    }
   ],
   "source": [
    "#обучение\n",
    "log_reg = LogisticRegression().fit(x_train, y_train)\n",
    "log_reg.score(x_test, y_test)"
   ]
  },
  {
   "cell_type": "code",
   "execution_count": 20,
   "metadata": {},
   "outputs": [],
   "source": [
    "#предсказание\n",
    "y_pred = log_reg.predict(x_test)"
   ]
  },
  {
   "cell_type": "code",
   "execution_count": 21,
   "metadata": {},
   "outputs": [
    {
     "name": "stdout",
     "output_type": "stream",
     "text": [
      "0.6849192100538599\n",
      "0.8137369033760187\n"
     ]
    }
   ],
   "source": [
    "#проверка на точность\n",
    "precision_false, precision_true = precision_score(y_test, y_pred, average=None)\n",
    "print(precision_true)\n",
    "print(precision_false)"
   ]
  },
  {
   "cell_type": "code",
   "execution_count": 22,
   "metadata": {},
   "outputs": [
    {
     "name": "stdout",
     "output_type": "stream",
     "text": [
      "0.8266522210184182\n",
      "0.6657142857142857\n"
     ]
    }
   ],
   "source": [
    "#проверка на полноту\n",
    "recall_false, recall_true = recall_score(y_test, y_pred, average=None)\n",
    "print(recall_true)\n",
    "print(recall_false)"
   ]
  }
 ],
 "metadata": {
  "kernelspec": {
   "display_name": "Python 3",
   "language": "python",
   "name": "python3"
  },
  "language_info": {
   "codemirror_mode": {
    "name": "ipython",
    "version": 3
   },
   "file_extension": ".py",
   "mimetype": "text/x-python",
   "name": "python",
   "nbconvert_exporter": "python",
   "pygments_lexer": "ipython3",
   "version": "3.8.1"
  }
 },
 "nbformat": 4,
 "nbformat_minor": 4
}
